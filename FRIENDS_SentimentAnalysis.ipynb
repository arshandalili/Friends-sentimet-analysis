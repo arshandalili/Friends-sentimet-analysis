{
 "cells": [
  {
   "cell_type": "markdown",
   "metadata": {},
   "source": [
    "<div dir=\"auto\" align=\"center\">\n",
    "    <h3>\n",
    "        به نام خدا\n",
    "    </h3>\n",
    "    <br>\n",
    "    <h1>\n",
    "        <strong>\n",
    "            پردازش زبان‌های طبیعی\n",
    "        </strong>\n",
    "    </h1>\n",
    "    <h2>\n",
    "        <strong>\n",
    "            تمرین اول\n",
    "        </strong>\n",
    "    </h2>\n",
    "    <br>\n",
    "    <h3>\n",
    "        ارشان دلیلی - ٩٨١٠٥٧٥١\n",
    "    </h3>\n",
    "    <br>\n",
    "</div>\n",
    "<hr>"
   ]
  },
  {
   "cell_type": "markdown",
   "metadata": {},
   "source": [
    "<div>\n",
    "    <h3 style='direction:rtl;text-align:justify;'>  \n",
    "        توضیحات کلی\n",
    "    </h3>\n",
    "</div>\n",
    "\n",
    "\n",
    "\n",
    "<div dir=\"auto\" align=\"justify\">\n",
    "    <p style='direction:rtl;text-align:justify;'>\n",
    "در این تمرین، دیالوگ‌های سریال محبوب FRIENDS را ابتدا به دست می‌آوریم و سپس تحلیل‌هایی از جمله Sentiment Analysis بر روی آن انجام می‌دهیم.\n",
    "    </p>\n",
    "</div>"
   ]
  },
  {
   "cell_type": "markdown",
   "metadata": {},
   "source": [
    "<div>\n",
    "    <h3 style='direction:rtl;text-align:justify;'> \n",
    "    پکیج‌های پیش‌نیاز\n",
    "    </h3>\n",
    "</div>\n",
    "\n",
    "<div dir=\"auto\" align=\"justify\">\n",
    "    <p style='direction:rtl;text-align:justify;'>\n",
    "ابتدا cellهای این قسمت را اجرا کنید تا پکیج‌های مورد نیاز نصب و ایمپورت شوند تا مطمئن  شویم در طول اجرا به مشکلی  برنمی‌خوریم.\n",
    "    </p>\n",
    "</div>"
   ]
  },
  {
   "cell_type": "code",
   "execution_count": null,
   "metadata": {},
   "outputs": [],
   "source": [
    "! pip install numpy\n",
    "! pip install pandas\n",
    "! pip install scrapy\n",
    "! pip install nltk\n",
    "! pip install matplotlib\n",
    "! pip install selenium\n",
    "! pip install wordcloud\n",
    "! pip install httplib2\n",
    "! pip install yake\n",
    "! pip insatll tqdm"
   ]
  },
  {
   "cell_type": "code",
   "execution_count": 1,
   "metadata": {},
   "outputs": [],
   "source": [
    "# Import required packages\n",
    "import re\n",
    "import os\n",
    "import time\n",
    "import yake\n",
    "import nltk\n",
    "import string\n",
    "import httplib2\n",
    "import requests\n",
    "import itertools\n",
    "import numpy as np\n",
    "import pandas as pd\n",
    "import urllib.request\n",
    "from tqdm import tqdm\n",
    "from pathlib import Path\n",
    "from wordcloud import WordCloud\n",
    "import matplotlib.pyplot as plt\n",
    "from urllib.request import urlopen\n",
    "from bs4 import BeautifulSoup, SoupStrainer"
   ]
  },
  {
   "cell_type": "markdown",
   "metadata": {},
   "source": [
    "<div dir='rtl'>\n",
    "\n",
    "## دیتاست\n",
    "\n",
    "برای به دست آوردن اسکریپت‌های سریال FRIENDS از [این سایت](https://transcripts.foreverdreaming.org/viewforum.php?f=845) استفاده می‌کنیم.\n",
    "</div>"
   ]
  },
  {
   "cell_type": "markdown",
   "metadata": {},
   "source": [
    "<div>\n",
    "    <h3 style='direction:rtl;text-align:justify;'>  \n",
    "پیدا کردن لینک‌ها\n",
    "    </h3>\n",
    "</div>\n",
    "\n",
    "\n",
    "\n",
    "<div dir=\"auto\" align=\"justify\">\n",
    "    <p style='direction:rtl;text-align:justify;'>\n",
    "در این قسمت لینک‌ها را به دست می‌آوریم.\n",
    "    </p>\n",
    "</div>"
   ]
  },
  {
   "cell_type": "code",
   "execution_count": null,
   "metadata": {},
   "outputs": [],
   "source": [
    "def get_links(url, linkList = []):\n",
    "    http = httplib2.Http()\n",
    "    status, response = http.request(url)\n",
    "    for link in BeautifulSoup(response, 'html.parser', parse_only=SoupStrainer('a')):\n",
    "        if link.has_attr('class') and 'topictitle' in link['class'] and link.has_attr('title') and 'Thank' not in link['title']:\n",
    "            sublink = link['href'][2:]\n",
    "            fullLink = 'https://transcripts.foreverdreaming.org/' + sublink\n",
    "            linkList.append(fullLink)\n",
    "    return linkList"
   ]
  },
  {
   "cell_type": "code",
   "execution_count": null,
   "metadata": {},
   "outputs": [],
   "source": [
    "linkList = []\n",
    "url = \"https://transcripts.foreverdreaming.org/viewforum.php?f=845\"\n",
    "linkList = get_links(url)\n",
    "\n",
    "for index in range(25, 200, 25):\n",
    "    url = f'{url}&start={index}'\n",
    "    linkList = get_links(url, linkList)"
   ]
  },
  {
   "cell_type": "markdown",
   "metadata": {},
   "source": [
    "<div>\n",
    "    <h3 style='direction:rtl;text-align:justify;'>  \n",
    "ذخیره داده\n",
    "    </h3>\n",
    "</div>\n",
    "\n",
    "\n",
    "\n",
    "<div dir=\"auto\" align=\"justify\">\n",
    "    <p style='direction:rtl;text-align:justify;'>\n",
    "در این قسمت داده به دست آمده را ذخیره می‌کنیم و آن‌ها را در فایل \"FRIENDS_dataset.txt\" قرار می‌دهیم.\n",
    "    </p>\n",
    "</div>\n"
   ]
  },
  {
   "cell_type": "code",
   "execution_count": null,
   "metadata": {},
   "outputs": [],
   "source": [
    "def get_URL_content(URL):\n",
    "    while True:\n",
    "        try:\n",
    "            return requests.get(URL, timeout=5).content\n",
    "        except:\n",
    "            pass"
   ]
  },
  {
   "cell_type": "code",
   "execution_count": null,
   "metadata": {},
   "outputs": [],
   "source": [
    "path = 'FRIENDS_dataset'\n",
    "with open(f'{path}.txt', 'w') as transcript:\n",
    "    counter = 1\n",
    "    for link in tqdm(linkList):\n",
    "        html = get_URL_content(link)\n",
    "        soup = BeautifulSoup(html, features=\"html.parser\")\n",
    "        for script in soup([\"script\", \"style\"]):\n",
    "            script.extract()   \n",
    "        text = soup.get_text()\n",
    "        lines = (line.strip() for line in text.splitlines())\n",
    "        chunks = (phrase.strip() for line in lines for phrase in line.split(\"  \"))\n",
    "        text = '\\n'.join(chunk for chunk in chunks if chunk)\n",
    "        text = text.strip()\n",
    "        season_num = text.strip()[:2]\n",
    "        transcript.write(text)\n",
    "        transcript.write(\"\\n\")\n",
    "        if counter == 190:\n",
    "            break\n",
    "        counter += 1"
   ]
  },
  {
   "cell_type": "markdown",
   "metadata": {},
   "source": [
    "<div>\n",
    "    <h3 style='direction:rtl;text-align:justify;'>  \n",
    "پیش‌پردازش و جداسازی اسکریپت\n",
    "    </h3>\n",
    "</div>\n",
    "\n",
    "\n",
    "\n",
    "<div dir=\"auto\" align=\"justify\">\n",
    "    <p style='direction:rtl;text-align:justify;'>\n",
    "در این قسمت، متن را پیش‌پردازش کرده و صحبت هر کدام از شش شخصیت اصلی را جدا می‌کنیم.\n",
    "    </p>\n",
    "</div>\n"
   ]
  },
  {
   "cell_type": "code",
   "execution_count": null,
   "metadata": {},
   "outputs": [],
   "source": [
    "from nltk.corpus import stopwords \n",
    "from nltk.tokenize import word_tokenize \n",
    "from nltk.tokenize import sent_tokenize\n",
    "from nltk.sentiment import SentimentIntensityAnalyzer\n",
    "nltk.download('stopwords')\n",
    "nltk.download('punkt')\n",
    "nltk.download('averaged_perceptron_tagger')\n",
    "nltk.download('wordnet')\n",
    "nltk.download('vader_lexicon')"
   ]
  },
  {
   "cell_type": "code",
   "execution_count": 7,
   "metadata": {},
   "outputs": [],
   "source": [
    "def modify(text):\n",
    "    text = text.strip('\\n')\n",
    "    text = text.strip('\\t')\n",
    "    text = text.replace('\\n','')\n",
    "    text = text.replace('\\t','')\n",
    "    return text"
   ]
  },
  {
   "cell_type": "code",
   "execution_count": 8,
   "metadata": {},
   "outputs": [],
   "source": [
    "JOEY = ''\n",
    "ROSS = ''\n",
    "CHANDLER = ''\n",
    "MONICA = ''\n",
    "PHOEBE = ''\n",
    "RACHEL = ''\n",
    "\n",
    "transcript = \"\"\n",
    "\n",
    "main_characters = {}\n",
    "\n",
    "with open('FRIENDS_dataset.txt', 'r') as f:\n",
    "    for line in f.readlines():\n",
    "        refined_line = re.sub(r'\\([^)]*\\)', '', line)\n",
    "        refined_line = re.sub(r'\\[[^)]*\\]', '', refined_line)\n",
    "        transcript += refined_line + ' '\n",
    "        if refined_line.startswith(\"JOEY:\"):\n",
    "            JOEY += ' ' + (refined_line[len(\"JOEY\") + 2:])\n",
    "        elif refined_line.startswith('ROSS:'):\n",
    "            ROSS += ' '+(refined_line[len(\"ROSS\") + 2:])\n",
    "        elif refined_line.startswith('CHANDLER:'):\n",
    "            CHANDLER += ' '+(refined_line[len(\"CHANDLER\") + 2:])\n",
    "        elif refined_line.startswith('MONICA:'):\n",
    "            MONICA += ' '+(refined_line[len(\"MONICA\") + 2:])\n",
    "        elif refined_line.startswith('PHOEBE:'):\n",
    "            PHOEBE += ' '+(refined_line[len(\"PHOEBE\") + 2:])\n",
    "        elif refined_line.startswith('RACHEL:'):\n",
    "            RACHEL += ' ' + (refined_line[len(\"RACHEL\") + 2:])\n",
    "\n",
    "    \n",
    "main_characters['JOEY'] = JOEY\n",
    "main_characters['ROSS'] = ROSS\n",
    "main_characters['CHANDLER'] = CHANDLER\n",
    "main_characters['MONICA'] = MONICA\n",
    "main_characters['PHOEBE'] = PHOEBE\n",
    "main_characters['RACHEL'] = RACHEL\n",
    "transcript = modify(transcript)"
   ]
  },
  {
   "cell_type": "markdown",
   "metadata": {},
   "source": [
    "<div>\n",
    "    <h3 style='direction:rtl;text-align:justify;'>  \n",
    "نرمال‌سازی و توکنیزیشن\n",
    "    </h3>\n",
    "</div>\n",
    "\n",
    "\n",
    "\n",
    "<div dir=\"auto\" align=\"justify\">\n",
    "    <p style='direction:rtl;text-align:justify;'>\n",
    "در این قسمت داده‌ها را tokenize می‌کنیم.\n",
    "    </p>\n",
    "</div>"
   ]
  },
  {
   "cell_type": "code",
   "execution_count": 9,
   "metadata": {},
   "outputs": [],
   "source": [
    "def tokenize(data):\n",
    "    word_tokens = word_tokenize(data)\n",
    "    return word_tokens"
   ]
  },
  {
   "cell_type": "code",
   "execution_count": 10,
   "metadata": {},
   "outputs": [],
   "source": [
    "stop_words = set(stopwords.words('english'))\n",
    "\n",
    "def filter_data(data, minimum_length=1):\n",
    "    word_tokens = tokenize(data)\n",
    "    filtered_sentence = []\n",
    "    for w in word_tokens:\n",
    "        if w not in stop_words and len(w) > minimum_length and w not in string.punctuation: \n",
    "            filtered_sentence.append(w)\n",
    "    return list(filtered_sentence)"
   ]
  },
  {
   "cell_type": "markdown",
   "metadata": {},
   "source": [
    "<div>\n",
    "    <h3 style='direction:rtl;text-align:justify;'>  \n",
    "تعداد کلمات و جملات هر شخصیت\n",
    "    </h3>\n",
    "</div>\n",
    "\n",
    "\n",
    "\n",
    "<div dir=\"auto\" align=\"justify\">\n",
    "    <p style='direction:rtl;text-align:justify;'>\n",
    "در این قسمت تعداد کلمات و جملات هر کدام از شش شخصیت اصلی را به دست می‌آوریم.\n",
    "    </p>\n",
    "</div>\n"
   ]
  },
  {
   "cell_type": "code",
   "execution_count": 11,
   "metadata": {
    "scrolled": true
   },
   "outputs": [
    {
     "name": "stdout",
     "output_type": "stream",
     "text": [
      "Number of all words: 371732\n",
      "Number of Joey words: 7158\n",
      "Number of Ross words: 9352\n",
      "Number of Chandler words: 7183\n",
      "Number of Monica words: 6530\n",
      "Number of Phoebe words: 6300\n",
      "Number of Rachel words: 6244\n"
     ]
    }
   ],
   "source": [
    "print(\"Number of all words:\", len(filter_data(transcript)))\n",
    "for person in main_characters:\n",
    "    print(\"Number of \" + person.capitalize() + \" words:\", len(filter_data(main_characters[person])))"
   ]
  },
  {
   "cell_type": "code",
   "execution_count": 12,
   "metadata": {},
   "outputs": [
    {
     "name": "stdout",
     "output_type": "stream",
     "text": [
      "Number of all sentences: 84602\n",
      "Number of Joey sentences: 1760\n",
      "Number of Ross sentences: 2257\n",
      "Number of Chandler sentences: 1654\n",
      "Number of Monica sentences: 1640\n",
      "Number of Phoebe sentences: 1421\n",
      "Number of Rachel sentences: 1539\n"
     ]
    }
   ],
   "source": [
    "print(\"Number of all sentences:\", len(nltk.sent_tokenize(transcript)))\n",
    "for person in main_characters:\n",
    "    print(\"Number of \" + person.capitalize() + \" sentences:\", len(nltk.sent_tokenize(main_characters[person])))"
   ]
  },
  {
   "cell_type": "markdown",
   "metadata": {},
   "source": [
    "\n",
    "<div dir=\"auto\" align=\"justify\">\n",
    "    <p style='direction:rtl;text-align:justify;'>\n",
    "در این قسمت نمودار کلمات بر حسب کاراکتر را رسم می‌کنیم.\n",
    "    </p>\n",
    "</div>\n"
   ]
  },
  {
   "cell_type": "code",
   "execution_count": 13,
   "metadata": {
    "scrolled": true
   },
   "outputs": [
    {
     "data": {
      "image/png": "[encoded data removed]",
      "text/plain": [
       "<Figure size 432x288 with 1 Axes>"
      ]
     },
     "metadata": {
      "needs_background": "light"
     },
     "output_type": "display_data"
    }
   ],
   "source": [
    "words_length = {}\n",
    "for person in main_characters:\n",
    "    words_length[person] = len(filter_data(main_characters[person]))\n",
    "sorted_by_length = {k: v for k, v in sorted(words_length.items(), key=lambda item: item[1], reverse=True)}\n",
    "courses = list(sorted_by_length.keys())\n",
    "values = list(sorted_by_length.values())\n",
    "  \n",
    "fig = plt.figure()\n",
    " \n",
    "plt.bar(courses, values, color ='maroon',\n",
    "        width = 0.4)\n",
    "\n",
    "plt.ylabel(\"Number of words\")\n",
    "plt.title(\"Character involvement\")\n",
    "plt.show()"
   ]
  },
  {
   "cell_type": "markdown",
   "metadata": {},
   "source": [
    "<div>\n",
    "    <h3 style='direction:rtl;text-align:justify;'>  \n",
    "تکرار کلمات و Lemmatization\n",
    "    </h3>\n",
    "</div>\n",
    "\n",
    "\n",
    "\n",
    "<div dir=\"auto\" align=\"justify\">\n",
    "    <p style='direction:rtl;text-align:justify;'>\n",
    "در این قسمت پرتکرارترین کلمات هر کاراکتر و هم‌چنین lemmatization آن را انجام می‌دهیم.\n",
    "    </p>\n",
    "</div>\n"
   ]
  },
  {
   "cell_type": "code",
   "execution_count": 14,
   "metadata": {},
   "outputs": [
    {
     "data": {
      "text/html": [
       "<div>\n",
       "<style scoped>\n",
       "    .dataframe tbody tr th:only-of-type {\n",
       "        vertical-align: middle;\n",
       "    }\n",
       "\n",
       "    .dataframe tbody tr th {\n",
       "        vertical-align: top;\n",
       "    }\n",
       "\n",
       "    .dataframe thead th {\n",
       "        text-align: right;\n",
       "    }\n",
       "</style>\n",
       "<table border=\"1\" class=\"dataframe\">\n",
       "  <thead>\n",
       "    <tr style=\"text-align: right;\">\n",
       "      <th></th>\n",
       "      <th>JOEY</th>\n",
       "      <th>ROSS</th>\n",
       "      <th>CHANDLER</th>\n",
       "      <th>MONICA</th>\n",
       "      <th>PHOEBE</th>\n",
       "      <th>RACHEL</th>\n",
       "    </tr>\n",
       "  </thead>\n",
       "  <tbody>\n",
       "    <tr>\n",
       "      <th>0</th>\n",
       "      <td>(yeah, 103)</td>\n",
       "      <td>(know, 173)</td>\n",
       "      <td>(well, 109)</td>\n",
       "      <td>(know, 102)</td>\n",
       "      <td>(know, 180)</td>\n",
       "      <td>(know, 131)</td>\n",
       "    </tr>\n",
       "    <tr>\n",
       "      <th>1</th>\n",
       "      <td>(know, 102)</td>\n",
       "      <td>(well, 97)</td>\n",
       "      <td>(know, 104)</td>\n",
       "      <td>(well, 59)</td>\n",
       "      <td>(like, 116)</td>\n",
       "      <td>(well, 91)</td>\n",
       "    </tr>\n",
       "    <tr>\n",
       "      <th>2</th>\n",
       "      <td>(like, 83)</td>\n",
       "      <td>(yeah, 95)</td>\n",
       "      <td>(like, 62)</td>\n",
       "      <td>(like, 57)</td>\n",
       "      <td>(yeah, 83)</td>\n",
       "      <td>(what, 81)</td>\n",
       "    </tr>\n",
       "    <tr>\n",
       "      <th>3</th>\n",
       "      <td>(what, 73)</td>\n",
       "      <td>(what, 88)</td>\n",
       "      <td>(yeah, 61)</td>\n",
       "      <td>(really, 56)</td>\n",
       "      <td>(really, 43)</td>\n",
       "      <td>(mean, 63)</td>\n",
       "    </tr>\n",
       "    <tr>\n",
       "      <th>4</th>\n",
       "      <td>(well, 68)</td>\n",
       "      <td>(like, 81)</td>\n",
       "      <td>(what, 53)</td>\n",
       "      <td>(mean, 53)</td>\n",
       "      <td>(right, 41)</td>\n",
       "      <td>(yeah, 60)</td>\n",
       "    </tr>\n",
       "    <tr>\n",
       "      <th>5</th>\n",
       "      <td>(right, 52)</td>\n",
       "      <td>(right, 64)</td>\n",
       "      <td>(right, 48)</td>\n",
       "      <td>(what, 51)</td>\n",
       "      <td>(mean, 38)</td>\n",
       "      <td>(really, 52)</td>\n",
       "    </tr>\n",
       "    <tr>\n",
       "      <th>6</th>\n",
       "      <td>(look, 45)</td>\n",
       "      <td>(think, 51)</td>\n",
       "      <td>(look, 43)</td>\n",
       "      <td>(yeah, 47)</td>\n",
       "      <td>(well, 38)</td>\n",
       "      <td>(like, 50)</td>\n",
       "    </tr>\n",
       "    <tr>\n",
       "      <th>7</th>\n",
       "      <td>(ross, 41)</td>\n",
       "      <td>(look, 50)</td>\n",
       "      <td>(think, 42)</td>\n",
       "      <td>(right, 43)</td>\n",
       "      <td>(think, 33)</td>\n",
       "      <td>(right, 50)</td>\n",
       "    </tr>\n",
       "    <tr>\n",
       "      <th>8</th>\n",
       "      <td>(come, 41)</td>\n",
       "      <td>(guys, 49)</td>\n",
       "      <td>(that, 36)</td>\n",
       "      <td>(guys, 40)</td>\n",
       "      <td>('cause, 32)</td>\n",
       "      <td>(look, 43)</td>\n",
       "    </tr>\n",
       "    <tr>\n",
       "      <th>9</th>\n",
       "      <td>(good, 41)</td>\n",
       "      <td>(mean, 46)</td>\n",
       "      <td>(joey, 32)</td>\n",
       "      <td>(think, 35)</td>\n",
       "      <td>(sorry, 32)</td>\n",
       "      <td>(think, 40)</td>\n",
       "    </tr>\n",
       "  </tbody>\n",
       "</table>\n",
       "</div>"
      ],
      "text/plain": [
       "          JOEY         ROSS     CHANDLER        MONICA        PHOEBE  \\\n",
       "0  (yeah, 103)  (know, 173)  (well, 109)   (know, 102)   (know, 180)   \n",
       "1  (know, 102)   (well, 97)  (know, 104)    (well, 59)   (like, 116)   \n",
       "2   (like, 83)   (yeah, 95)   (like, 62)    (like, 57)    (yeah, 83)   \n",
       "3   (what, 73)   (what, 88)   (yeah, 61)  (really, 56)  (really, 43)   \n",
       "4   (well, 68)   (like, 81)   (what, 53)    (mean, 53)   (right, 41)   \n",
       "5  (right, 52)  (right, 64)  (right, 48)    (what, 51)    (mean, 38)   \n",
       "6   (look, 45)  (think, 51)   (look, 43)    (yeah, 47)    (well, 38)   \n",
       "7   (ross, 41)   (look, 50)  (think, 42)   (right, 43)   (think, 33)   \n",
       "8   (come, 41)   (guys, 49)   (that, 36)    (guys, 40)  ('cause, 32)   \n",
       "9   (good, 41)   (mean, 46)   (joey, 32)   (think, 35)   (sorry, 32)   \n",
       "\n",
       "         RACHEL  \n",
       "0   (know, 131)  \n",
       "1    (well, 91)  \n",
       "2    (what, 81)  \n",
       "3    (mean, 63)  \n",
       "4    (yeah, 60)  \n",
       "5  (really, 52)  \n",
       "6    (like, 50)  \n",
       "7   (right, 50)  \n",
       "8    (look, 43)  \n",
       "9   (think, 40)  "
      ]
     },
     "execution_count": 14,
     "metadata": {},
     "output_type": "execute_result"
    }
   ],
   "source": [
    "most_common_words = {}\n",
    "\n",
    "for person in main_characters:\n",
    "    filtered_data = filter_data(main_characters[person], 3)\n",
    "    dist = nltk.FreqDist(itertools.chain(w.lower() for w in filtered_data))\n",
    "    most_common_words[person] = dist.most_common(10)\n",
    "\n",
    "df = pd.DataFrame(dict([(k,pd.Series(v)) for k,v in most_common_words.items() ]))\n",
    "df"
   ]
  },
  {
   "cell_type": "markdown",
   "metadata": {},
   "source": [
    "<div dir=\"auto\" align=\"justify\">\n",
    "    <p style='direction:rtl;text-align:justify;'>\n",
    "همان‌طور که قابل مشاهده می‌باشد، تعداد زیادی از کلمات پرتکرار صفت می‌باشند. در این قسمت پرتکرارترین کلمات که نام می‌باشند را برای هر شخصیت به دست می‌آوریم.\n",
    "    </p>\n",
    "</div>\n"
   ]
  },
  {
   "cell_type": "code",
   "execution_count": 15,
   "metadata": {},
   "outputs": [
    {
     "data": {
      "text/html": [
       "<div>\n",
       "<style scoped>\n",
       "    .dataframe tbody tr th:only-of-type {\n",
       "        vertical-align: middle;\n",
       "    }\n",
       "\n",
       "    .dataframe tbody tr th {\n",
       "        vertical-align: top;\n",
       "    }\n",
       "\n",
       "    .dataframe thead th {\n",
       "        text-align: right;\n",
       "    }\n",
       "</style>\n",
       "<table border=\"1\" class=\"dataframe\">\n",
       "  <thead>\n",
       "    <tr style=\"text-align: right;\">\n",
       "      <th></th>\n",
       "      <th>JOEY</th>\n",
       "      <th>ROSS</th>\n",
       "      <th>CHANDLER</th>\n",
       "      <th>MONICA</th>\n",
       "      <th>PHOEBE</th>\n",
       "      <th>RACHEL</th>\n",
       "    </tr>\n",
       "  </thead>\n",
       "  <tbody>\n",
       "    <tr>\n",
       "      <th>0</th>\n",
       "      <td>(yeah, 92)</td>\n",
       "      <td>(yeah, 82)</td>\n",
       "      <td>(well, 86)</td>\n",
       "      <td>(yeah, 42)</td>\n",
       "      <td>(yeah, 67)</td>\n",
       "      <td>(well, 59)</td>\n",
       "    </tr>\n",
       "    <tr>\n",
       "      <th>1</th>\n",
       "      <td>(well, 49)</td>\n",
       "      <td>(well, 67)</td>\n",
       "      <td>(yeah, 52)</td>\n",
       "      <td>(well, 40)</td>\n",
       "      <td>(okay, 25)</td>\n",
       "      <td>(yeah, 51)</td>\n",
       "    </tr>\n",
       "    <tr>\n",
       "      <th>2</th>\n",
       "      <td>(ross, 41)</td>\n",
       "      <td>(thing, 51)</td>\n",
       "      <td>(look, 33)</td>\n",
       "      <td>(ross, 31)</td>\n",
       "      <td>(sorry, 23)</td>\n",
       "      <td>(ross, 38)</td>\n",
       "    </tr>\n",
       "    <tr>\n",
       "      <th>3</th>\n",
       "      <td>(look, 33)</td>\n",
       "      <td>(look, 44)</td>\n",
       "      <td>(joey, 32)</td>\n",
       "      <td>(thing, 31)</td>\n",
       "      <td>(guy, 19)</td>\n",
       "      <td>(look, 34)</td>\n",
       "    </tr>\n",
       "    <tr>\n",
       "      <th>4</th>\n",
       "      <td>(chandler, 28)</td>\n",
       "      <td>(guy, 42)</td>\n",
       "      <td>(thing, 30)</td>\n",
       "      <td>(guy, 31)</td>\n",
       "      <td>(time, 18)</td>\n",
       "      <td>(guy, 27)</td>\n",
       "    </tr>\n",
       "    <tr>\n",
       "      <th>5</th>\n",
       "      <td>(alright, 24)</td>\n",
       "      <td>(carol, 38)</td>\n",
       "      <td>(time, 27)</td>\n",
       "      <td>(time, 29)</td>\n",
       "      <td>(look, 18)</td>\n",
       "      <td>(okay, 26)</td>\n",
       "    </tr>\n",
       "    <tr>\n",
       "      <th>6</th>\n",
       "      <td>(thing, 22)</td>\n",
       "      <td>(rachel, 34)</td>\n",
       "      <td>(guy, 25)</td>\n",
       "      <td>(alright, 28)</td>\n",
       "      <td>(thing, 18)</td>\n",
       "      <td>(monica, 25)</td>\n",
       "    </tr>\n",
       "    <tr>\n",
       "      <th>7</th>\n",
       "      <td>(time, 21)</td>\n",
       "      <td>(time, 34)</td>\n",
       "      <td>(alright, 22)</td>\n",
       "      <td>(joey, 26)</td>\n",
       "      <td>(well, 18)</td>\n",
       "      <td>(sorry, 24)</td>\n",
       "    </tr>\n",
       "    <tr>\n",
       "      <th>8</th>\n",
       "      <td>(woman, 20)</td>\n",
       "      <td>(julie, 27)</td>\n",
       "      <td>(woman, 22)</td>\n",
       "      <td>(look, 26)</td>\n",
       "      <td>(ross, 17)</td>\n",
       "      <td>(thing, 23)</td>\n",
       "    </tr>\n",
       "    <tr>\n",
       "      <th>9</th>\n",
       "      <td>(come, 19)</td>\n",
       "      <td>(alright, 26)</td>\n",
       "      <td>(mean, 21)</td>\n",
       "      <td>(rachel, 25)</td>\n",
       "      <td>(know, 17)</td>\n",
       "      <td>(mean, 22)</td>\n",
       "    </tr>\n",
       "  </tbody>\n",
       "</table>\n",
       "</div>"
      ],
      "text/plain": [
       "             JOEY           ROSS       CHANDLER         MONICA       PHOEBE  \\\n",
       "0      (yeah, 92)     (yeah, 82)     (well, 86)     (yeah, 42)   (yeah, 67)   \n",
       "1      (well, 49)     (well, 67)     (yeah, 52)     (well, 40)   (okay, 25)   \n",
       "2      (ross, 41)    (thing, 51)     (look, 33)     (ross, 31)  (sorry, 23)   \n",
       "3      (look, 33)     (look, 44)     (joey, 32)    (thing, 31)    (guy, 19)   \n",
       "4  (chandler, 28)      (guy, 42)    (thing, 30)      (guy, 31)   (time, 18)   \n",
       "5   (alright, 24)    (carol, 38)     (time, 27)     (time, 29)   (look, 18)   \n",
       "6     (thing, 22)   (rachel, 34)      (guy, 25)  (alright, 28)  (thing, 18)   \n",
       "7      (time, 21)     (time, 34)  (alright, 22)     (joey, 26)   (well, 18)   \n",
       "8     (woman, 20)    (julie, 27)    (woman, 22)     (look, 26)   (ross, 17)   \n",
       "9      (come, 19)  (alright, 26)     (mean, 21)   (rachel, 25)   (know, 17)   \n",
       "\n",
       "         RACHEL  \n",
       "0    (well, 59)  \n",
       "1    (yeah, 51)  \n",
       "2    (ross, 38)  \n",
       "3    (look, 34)  \n",
       "4     (guy, 27)  \n",
       "5    (okay, 26)  \n",
       "6  (monica, 25)  \n",
       "7   (sorry, 24)  \n",
       "8   (thing, 23)  \n",
       "9    (mean, 22)  "
      ]
     },
     "execution_count": 15,
     "metadata": {},
     "output_type": "execute_result"
    }
   ],
   "source": [
    "most_common_NN_words = {}\n",
    "\n",
    "lemma = nltk.WordNetLemmatizer()\n",
    "lemmatized_words = {}\n",
    "\n",
    "for person in main_characters:\n",
    "    filtered_data = filter_data(main_characters[person], 3)\n",
    "    lemmatized_words[person] = [lemma.lemmatize(t) for t in filtered_data]\n",
    "    lemmatized_tokens = []\n",
    "    for tag in nltk.pos_tag(lemmatized_words[person]):\n",
    "        if tag[1].startswith('NN'):\n",
    "            lemmatized_tokens.append(tag[0])\n",
    "    dist = nltk.FreqDist(itertools.chain(token.lower() for token in lemmatized_tokens))\n",
    "    most_common_NN_words[person] = dist.most_common(10)\n",
    "df = pd.DataFrame(dict([(k,pd.Series(v)) for k,v in most_common_NN_words.items() ]))\n",
    "df"
   ]
  },
  {
   "cell_type": "markdown",
   "metadata": {},
   "source": [
    "<div>\n",
    "    <h3 style='direction:rtl;text-align:justify;'>  \n",
    "کلمات کلیدی\n",
    "    </h3>\n",
    "</div>\n",
    "\n",
    "\n",
    "\n",
    "<div dir=\"auto\" align=\"justify\">\n",
    "    <p style='direction:rtl;text-align:justify;'>\n",
    "در الین قسمت با استفاده از کتاب‌خانه yake کلمات کلیدی هر شخصیت را به دست می‌آوریم.\n",
    "    </p>\n",
    "</div>\n"
   ]
  },
  {
   "cell_type": "code",
   "execution_count": 16,
   "metadata": {
    "scrolled": true
   },
   "outputs": [
    {
     "data": {
      "text/html": [
       "<div>\n",
       "<style scoped>\n",
       "    .dataframe tbody tr th:only-of-type {\n",
       "        vertical-align: middle;\n",
       "    }\n",
       "\n",
       "    .dataframe tbody tr th {\n",
       "        vertical-align: top;\n",
       "    }\n",
       "\n",
       "    .dataframe thead th {\n",
       "        text-align: right;\n",
       "    }\n",
       "</style>\n",
       "<table border=\"1\" class=\"dataframe\">\n",
       "  <thead>\n",
       "    <tr style=\"text-align: right;\">\n",
       "      <th></th>\n",
       "      <th>JOEY</th>\n",
       "      <th>ROSS</th>\n",
       "      <th>CHANDLER</th>\n",
       "      <th>MONICA</th>\n",
       "      <th>PHOEBE</th>\n",
       "      <th>RACHEL</th>\n",
       "    </tr>\n",
       "  </thead>\n",
       "  <tbody>\n",
       "    <tr>\n",
       "      <th>0</th>\n",
       "      <td>(hey, 0.0015572)</td>\n",
       "      <td>(hey, 0.0017614)</td>\n",
       "      <td>(Hey, 0.0027543)</td>\n",
       "      <td>(gonna, 0.0031858)</td>\n",
       "      <td>(yeah, 0.0019586)</td>\n",
       "      <td>(God, 0.0019746)</td>\n",
       "    </tr>\n",
       "    <tr>\n",
       "      <th>1</th>\n",
       "      <td>(Yeah, 0.0019875)</td>\n",
       "      <td>(Yeah, 0.0019084)</td>\n",
       "      <td>(Yeah, 0.0034706)</td>\n",
       "      <td>(God, 0.0039819)</td>\n",
       "      <td>(gonna, 0.0049591)</td>\n",
       "      <td>(yeah, 0.003523)</td>\n",
       "    </tr>\n",
       "    <tr>\n",
       "      <th>2</th>\n",
       "      <td>(Ross, 0.0039779)</td>\n",
       "      <td>(gonna, 0.0035338)</td>\n",
       "      <td>(gonna, 0.0046768)</td>\n",
       "      <td>(guys, 0.0047621)</td>\n",
       "      <td>(god, 0.0060277)</td>\n",
       "      <td>(gonna, 0.0037533)</td>\n",
       "    </tr>\n",
       "    <tr>\n",
       "      <th>3</th>\n",
       "      <td>(guy, 0.0073412)</td>\n",
       "      <td>(Carol, 0.004279)</td>\n",
       "      <td>(Joey, 0.0062866)</td>\n",
       "      <td>(Yeah, 0.0052356)</td>\n",
       "      <td>(Hey, 0.0067087)</td>\n",
       "      <td>(Ross, 0.0042601)</td>\n",
       "    </tr>\n",
       "    <tr>\n",
       "      <th>4</th>\n",
       "      <td>(Chandler, 0.0075902)</td>\n",
       "      <td>(guys, 0.0044437)</td>\n",
       "      <td>(guys, 0.0086661)</td>\n",
       "      <td>(guy, 0.0065684)</td>\n",
       "      <td>(Ooh, 0.0083916)</td>\n",
       "      <td>(guys, 0.0064597)</td>\n",
       "    </tr>\n",
       "    <tr>\n",
       "      <th>5</th>\n",
       "      <td>(good, 0.0076976)</td>\n",
       "      <td>(Carol Carol Carol, 0.0046261)</td>\n",
       "      <td>(man, 0.0087221)</td>\n",
       "      <td>(Ross, 0.0067276)</td>\n",
       "      <td>(good, 0.0112187)</td>\n",
       "      <td>(Hey, 0.0088991)</td>\n",
       "    </tr>\n",
       "    <tr>\n",
       "      <th>6</th>\n",
       "      <td>(gonna, 0.0091562)</td>\n",
       "      <td>(Rachel, 0.0051493)</td>\n",
       "      <td>(Guy, 0.0090128)</td>\n",
       "      <td>(Joey, 0.0085596)</td>\n",
       "      <td>(guys, 0.0113367)</td>\n",
       "      <td>(Monica, 0.0097633)</td>\n",
       "    </tr>\n",
       "    <tr>\n",
       "      <th>7</th>\n",
       "      <td>(Alright, 0.0093205)</td>\n",
       "      <td>(thing, 0.0068332)</td>\n",
       "      <td>(good, 0.0113332)</td>\n",
       "      <td>(Rachel, 0.0093339)</td>\n",
       "      <td>(guy, 0.0118765)</td>\n",
       "      <td>(guy, 0.0115594)</td>\n",
       "    </tr>\n",
       "    <tr>\n",
       "      <th>8</th>\n",
       "      <td>(man, 0.0111296)</td>\n",
       "      <td>(Julie, 0.0079038)</td>\n",
       "      <td>(Alright, 0.0120444)</td>\n",
       "      <td>(Hey, 0.0102674)</td>\n",
       "      <td>(Ross, 0.0149103)</td>\n",
       "      <td>(good, 0.013476)</td>\n",
       "    </tr>\n",
       "    <tr>\n",
       "      <th>9</th>\n",
       "      <td>(guys, 0.0139096)</td>\n",
       "      <td>(alright, 0.0079565)</td>\n",
       "      <td>(Janice, 0.0132586)</td>\n",
       "      <td>(Alright, 0.0108332)</td>\n",
       "      <td>(wanna, 0.0196559)</td>\n",
       "      <td>(God Monica, 0.0148896)</td>\n",
       "    </tr>\n",
       "  </tbody>\n",
       "</table>\n",
       "</div>"
      ],
      "text/plain": [
       "                    JOEY                            ROSS  \\\n",
       "0       (hey, 0.0015572)                (hey, 0.0017614)   \n",
       "1      (Yeah, 0.0019875)               (Yeah, 0.0019084)   \n",
       "2      (Ross, 0.0039779)              (gonna, 0.0035338)   \n",
       "3       (guy, 0.0073412)               (Carol, 0.004279)   \n",
       "4  (Chandler, 0.0075902)               (guys, 0.0044437)   \n",
       "5      (good, 0.0076976)  (Carol Carol Carol, 0.0046261)   \n",
       "6     (gonna, 0.0091562)             (Rachel, 0.0051493)   \n",
       "7   (Alright, 0.0093205)              (thing, 0.0068332)   \n",
       "8       (man, 0.0111296)              (Julie, 0.0079038)   \n",
       "9      (guys, 0.0139096)            (alright, 0.0079565)   \n",
       "\n",
       "               CHANDLER                MONICA              PHOEBE  \\\n",
       "0      (Hey, 0.0027543)    (gonna, 0.0031858)   (yeah, 0.0019586)   \n",
       "1     (Yeah, 0.0034706)      (God, 0.0039819)  (gonna, 0.0049591)   \n",
       "2    (gonna, 0.0046768)     (guys, 0.0047621)    (god, 0.0060277)   \n",
       "3     (Joey, 0.0062866)     (Yeah, 0.0052356)    (Hey, 0.0067087)   \n",
       "4     (guys, 0.0086661)      (guy, 0.0065684)    (Ooh, 0.0083916)   \n",
       "5      (man, 0.0087221)     (Ross, 0.0067276)   (good, 0.0112187)   \n",
       "6      (Guy, 0.0090128)     (Joey, 0.0085596)   (guys, 0.0113367)   \n",
       "7     (good, 0.0113332)   (Rachel, 0.0093339)    (guy, 0.0118765)   \n",
       "8  (Alright, 0.0120444)      (Hey, 0.0102674)   (Ross, 0.0149103)   \n",
       "9   (Janice, 0.0132586)  (Alright, 0.0108332)  (wanna, 0.0196559)   \n",
       "\n",
       "                    RACHEL  \n",
       "0         (God, 0.0019746)  \n",
       "1         (yeah, 0.003523)  \n",
       "2       (gonna, 0.0037533)  \n",
       "3        (Ross, 0.0042601)  \n",
       "4        (guys, 0.0064597)  \n",
       "5         (Hey, 0.0088991)  \n",
       "6      (Monica, 0.0097633)  \n",
       "7         (guy, 0.0115594)  \n",
       "8         (good, 0.013476)  \n",
       "9  (God Monica, 0.0148896)  "
      ]
     },
     "execution_count": 16,
     "metadata": {},
     "output_type": "execute_result"
    }
   ],
   "source": [
    "keyword_extractor = yake.KeywordExtractor(lan=\"en\", n=3, dedupLim=0.9, top=10, features=None)\n",
    "keywords = {}\n",
    "\n",
    "for person in main_characters:\n",
    "    temp = keyword_extractor.extract_keywords(main_characters[person])\n",
    "    rounded_element = []\n",
    "    for element in temp:\n",
    "        rounded_element.append((element[0], round(element[1], 7)))\n",
    "    keywords[person] = rounded_element\n",
    "\n",
    "df = pd.DataFrame(keywords)\n",
    "df"
   ]
  },
  {
   "cell_type": "markdown",
   "metadata": {},
   "source": [
    "<div>\n",
    "    <h3 style='direction:rtl;text-align:justify;'>  \n",
    "تحلیل Sentiment\n",
    "    </h3>\n",
    "</div>\n",
    "\n",
    "\n",
    "\n",
    "<div dir=\"auto\" align=\"justify\">\n",
    "    <p style='direction:rtl;text-align:justify;'>\n",
    "در این قسمت، sentimet analysis را با استفاده از SentimentIntensityAnalyzer انجام می‌دهیم و صحبت‌های هر شخصیت را به مثبت، خنثی و منفی تقسیم می‌کنیم.\n",
    "    </p>\n",
    "</div>\n"
   ]
  },
  {
   "cell_type": "code",
   "execution_count": 17,
   "metadata": {},
   "outputs": [],
   "source": [
    "speeches = {}\n",
    "for person in lemmatized_words:\n",
    "    words = \"\"\n",
    "    for word in lemmatized_words[person]:\n",
    "        words += word.lower() + ' '\n",
    "    speeches[person] = words"
   ]
  },
  {
   "cell_type": "code",
   "execution_count": 18,
   "metadata": {},
   "outputs": [],
   "source": [
    "sia = SentimentIntensityAnalyzer()\n",
    "sentiments = {}\n",
    "for person, speech in speeches.items():\n",
    "    status = sia.polarity_scores(speech)\n",
    "    sentiments[person] = [status['pos'], status['neu'], status['neg']]"
   ]
  },
  {
   "cell_type": "code",
   "execution_count": 19,
   "metadata": {
    "scrolled": false
   },
   "outputs": [
    {
     "data": {
      "text/html": [
       "<div>\n",
       "<style scoped>\n",
       "    .dataframe tbody tr th:only-of-type {\n",
       "        vertical-align: middle;\n",
       "    }\n",
       "\n",
       "    .dataframe tbody tr th {\n",
       "        vertical-align: top;\n",
       "    }\n",
       "\n",
       "    .dataframe thead th {\n",
       "        text-align: right;\n",
       "    }\n",
       "</style>\n",
       "<table border=\"1\" class=\"dataframe\">\n",
       "  <thead>\n",
       "    <tr style=\"text-align: right;\">\n",
       "      <th></th>\n",
       "      <th>JOEY</th>\n",
       "      <th>ROSS</th>\n",
       "      <th>CHANDLER</th>\n",
       "      <th>MONICA</th>\n",
       "      <th>PHOEBE</th>\n",
       "      <th>RACHEL</th>\n",
       "    </tr>\n",
       "  </thead>\n",
       "  <tbody>\n",
       "    <tr>\n",
       "      <th>positive</th>\n",
       "      <td>0.308</td>\n",
       "      <td>0.309</td>\n",
       "      <td>0.324</td>\n",
       "      <td>0.330</td>\n",
       "      <td>0.378</td>\n",
       "      <td>0.289</td>\n",
       "    </tr>\n",
       "    <tr>\n",
       "      <th>neutral</th>\n",
       "      <td>0.609</td>\n",
       "      <td>0.611</td>\n",
       "      <td>0.551</td>\n",
       "      <td>0.546</td>\n",
       "      <td>0.516</td>\n",
       "      <td>0.608</td>\n",
       "    </tr>\n",
       "    <tr>\n",
       "      <th>negative</th>\n",
       "      <td>0.083</td>\n",
       "      <td>0.081</td>\n",
       "      <td>0.125</td>\n",
       "      <td>0.124</td>\n",
       "      <td>0.106</td>\n",
       "      <td>0.103</td>\n",
       "    </tr>\n",
       "  </tbody>\n",
       "</table>\n",
       "</div>"
      ],
      "text/plain": [
       "           JOEY   ROSS  CHANDLER  MONICA  PHOEBE  RACHEL\n",
       "positive  0.308  0.309     0.324   0.330   0.378   0.289\n",
       "neutral   0.609  0.611     0.551   0.546   0.516   0.608\n",
       "negative  0.083  0.081     0.125   0.124   0.106   0.103"
      ]
     },
     "execution_count": 19,
     "metadata": {},
     "output_type": "execute_result"
    }
   ],
   "source": [
    "df = pd.DataFrame(data=sentiments)\n",
    "df.index = ['positive', 'neutral', 'negative']\n",
    "df"
   ]
  },
  {
   "cell_type": "markdown",
   "metadata": {},
   "source": [
    "<div dir=\"auto\" align=\"justify\">\n",
    "    <p style='direction:rtl;text-align:justify;'>\n",
    "حال نمودار sentiment شخصیت‌های اصلی را رسم می‌کنیم.\n",
    "    </p>\n",
    "</div>"
   ]
  },
  {
   "cell_type": "code",
   "execution_count": 20,
   "metadata": {
    "scrolled": false
   },
   "outputs": [
    {
     "data": {
      "image/png": "[encoded data removed]",
      "text/plain": [
       "<Figure size 432x288 with 1 Axes>"
      ]
     },
     "metadata": {
      "needs_background": "light"
     },
     "output_type": "display_data"
    }
   ],
   "source": [
    "df.transpose().plot(kind='bar',color=[ \"tab:blue\", \"orange\", \"r\"])\n",
    "plt.show()"
   ]
  },
  {
   "cell_type": "markdown",
   "metadata": {},
   "source": [
    "<div>\n",
    "    <h3 style='direction:rtl;text-align:justify;'>  \n",
    "مثبت‌ترین و منفی‌ترین شخصیت\n",
    "    </h3>\n",
    "</div>\n",
    "\n",
    "\n",
    "\n",
    "<div dir=\"auto\" align=\"justify\">\n",
    "    <p style='direction:rtl;text-align:justify;'>\n",
    "در این قسمت با توجه به نتایج قسمت قبل، مثبت‌ترین فرد و منفی‌ترین فرد را از بین شش شخصیت اصلی سریال انتخاب می‌کنیم.\n",
    "    </p>\n",
    "</div>\n"
   ]
  },
  {
   "cell_type": "code",
   "execution_count": 21,
   "metadata": {
    "scrolled": true
   },
   "outputs": [
    {
     "name": "stdout",
     "output_type": "stream",
     "text": [
      "Most positive character: Phoebe\n",
      "Most negative character: Chandler\n"
     ]
    }
   ],
   "source": [
    "positively_sorted = {k: v for k, v in sorted(sentiments.items(), key=lambda item: item[1][0], reverse=True)}\n",
    "negatively_sorted = {k: v for k, v in sorted(sentiments.items(), key=lambda item: item[1][2], reverse=True)}\n",
    "print(f\"Most positive character: {list(positively_sorted.keys())[0].capitalize()}\\nMost negative character: {list(negatively_sorted.keys())[0].capitalize()}\")"
   ]
  },
  {
   "cell_type": "markdown",
   "metadata": {},
   "source": [
    "<div dir=\"auto\" align=\"justify\">\n",
    "    <p style='direction:rtl;text-align:justify;'>\n",
    "در نهایت نیز پای چارت را برای sentiment analysis برای شش کاراکتر اصلی سریال رسم می‌کنیم.\n",
    "    </p>\n",
    "</div>\n"
   ]
  },
  {
   "cell_type": "code",
   "execution_count": 22,
   "metadata": {},
   "outputs": [
    {
     "data": {
      "image/png": "[encoded data removed]",
      "text/plain": [
       "<Figure size 1296x864 with 6 Axes>"
      ]
     },
     "metadata": {},
     "output_type": "display_data"
    }
   ],
   "source": [
    "figure, axis = plt.subplots(2, 3)\n",
    "figure.set_size_inches(18,12)\n",
    "colors = ['tab:green', 'c', 'r']\n",
    "labels = ['positive', 'neutral', 'negitive']\n",
    "explode = (0.2, 0.2, 0.2)\n",
    "\n",
    "axis[0, 0].pie(df.JOEY, colors=colors, labels=labels, explode=explode, autopct='%1.1f%%', counterclock=False, shadow=True)\n",
    "axis[0, 0].set_title('JOEY', fontname=\"Times New Roman\", fontweight=\"bold\")\n",
    "\n",
    "axis[0, 1].pie(df.ROSS, colors=colors, labels=labels, explode=explode, autopct='%1.1f%%', counterclock=False, shadow=True)\n",
    "axis[0, 1].set_title('ROSS', fontname=\"Times New Roman\", fontweight=\"bold\")\n",
    "\n",
    "axis[0, 2].pie(df.CHANDLER, colors=colors, labels=labels, explode=explode, autopct='%1.1f%%', counterclock=False, shadow=True)\n",
    "axis[0, 2].set_title('CHANDLER', fontname=\"Times New Roman\", fontweight=\"bold\")\n",
    "\n",
    "axis[1, 0].pie(df.MONICA, colors=colors, labels=labels, explode=explode, autopct='%1.1f%%', counterclock=False, shadow=True)\n",
    "axis[1, 0].set_title('MONICA', fontname=\"Times New Roman\", fontweight=\"bold\", color=\"r\")\n",
    "\n",
    "axis[1, 1].pie(df.PHOEBE, colors=colors, labels=labels, explode=explode, autopct='%1.1f%%', counterclock=False, shadow=True)\n",
    "axis[1, 1].set_title('PHOEBE', fontname=\"Times New Roman\", fontweight=\"bold\", color=\"r\")\n",
    "\n",
    "axis[1, 2].pie(df.RACHEL, colors=colors, labels=labels, explode=explode, autopct='%1.1f%%', counterclock=False, shadow=True)\n",
    "axis[1, 2].set_title('RACHEL', fontname=\"Times New Roman\", fontweight=\"bold\", color=\"r\")\n",
    "\n",
    "\n",
    "plt.show()"
   ]
  }
 ],
 "metadata": {
  "kernelspec": {
   "display_name": "Python 3.10.0 64-bit",
   "language": "python",
   "name": "python3"
  },
  "language_info": {
   "codemirror_mode": {
    "name": "ipython",
    "version": 3
   },
   "file_extension": ".py",
   "mimetype": "text/x-python",
   "name": "python",
   "nbconvert_exporter": "python",
   "pygments_lexer": "ipython3",
   "version": "3.10.0"
  },
  "vscode": {
   "interpreter": {
    "hash": "aee8b7b246df8f9039afb4144a1f6fd8d2ca17a180786b69acc140d282b71a49"
   }
  }
 },
 "nbformat": 4,
 "nbformat_minor": 2
}
